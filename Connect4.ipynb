{
  "nbformat": 4,
  "nbformat_minor": 0,
  "metadata": {
    "colab": {
      "provenance": [],
      "authorship_tag": "ABX9TyPOZeUNV+5Xges3TYO4auuX",
      "include_colab_link": true
    },
    "kernelspec": {
      "name": "python3",
      "display_name": "Python 3"
    },
    "language_info": {
      "name": "python"
    }
  },
  "cells": [
    {
      "cell_type": "markdown",
      "metadata": {
        "id": "view-in-github",
        "colab_type": "text"
      },
      "source": [
        "<a href=\"https://colab.research.google.com/github/Isaac-Gregory/Game-RL-CSCE-5214/blob/connect-four/Connect4.ipynb\" target=\"_parent\"><img src=\"https://colab.research.google.com/assets/colab-badge.svg\" alt=\"Open In Colab\"/></a>"
      ]
    },
    {
      "cell_type": "markdown",
      "source": [
        "Ideally I want the program to be able to be \"refunctioned\"\n",
        "\n",
        "- If I need to change to a different UI (terminal to python GUI), then it is easily done\n",
        "\n",
        "Possible Classes:\n",
        "\n",
        "- Board (Create, reset, determine win, insert coin / make a play; matrix of slots)\n",
        "\n",
        "- Slot (Update status)"
      ],
      "metadata": {
        "id": "-jdht8D-nBSI"
      }
    },
    {
      "cell_type": "code",
      "source": [
        "import numpy as np"
      ],
      "metadata": {
        "id": "Juopd7XWrSdB"
      },
      "execution_count": 1,
      "outputs": []
    },
    {
      "cell_type": "code",
      "source": [
        "class Slot:\n",
        "  def __init__(self):\n",
        "    self.status = ' '\n",
        "\n",
        "  def UpdateStatus(self, status):\n",
        "    self.status = status\n",
        "\n",
        "  def GetStatus(self):\n",
        "    return str(self.status)\n",
        "\n",
        "  def __str__(self):\n",
        "    return str(self.status)"
      ],
      "metadata": {
        "id": "JODVbM7cs2z-"
      },
      "execution_count": 2,
      "outputs": []
    },
    {
      "cell_type": "code",
      "execution_count": 3,
      "metadata": {
        "id": "NBKurPAPmgje"
      },
      "outputs": [],
      "source": [
        "class Board:\n",
        "\n",
        "  # Creating board\n",
        "  def __init__(self):\n",
        "    self.ResetBoard()\n",
        "\n",
        "  # Reporting on board\n",
        "  def BoardInfo(self):\n",
        "    print(\"Board Size: \", self.game_board.shape)\n",
        "    print(self)\n",
        "\n",
        "  # Printing out the board\n",
        "  def __str__(self):\n",
        "    board_str = \"\"\n",
        "    shape = self.game_board.shape\n",
        "\n",
        "    board_str += \"-\" * (shape[0] * 4 + 1) + \"\\n\"\n",
        "    for row in range(shape[1]-1, -1, -1):\n",
        "      row_str = \"| \"\n",
        "      for col in range(shape[0]):\n",
        "        row_str += self.game_board[col][row].GetStatus() + \" | \"\n",
        "      board_str += row_str + \"\\n\"\n",
        "    board_str += \"-\" * (shape[0] * 4 + 1)\n",
        "    return board_str\n",
        "\n",
        "  # Resetting board to default\n",
        "  def ResetBoard(self):\n",
        "    self.game_board = np.array([[Slot() for _ in range(6)] for _ in range(7)])\n",
        "\n",
        "  # Finding the next available slot position for the given column\n",
        "  def AvailableSlotInCol(self, col_index):\n",
        "    for row in range(5, -1, -1):\n",
        "      if self.game_board[col_index][row].GetStatus() != ' ':\n",
        "        return row+1\n",
        "    return None"
      ]
    },
    {
      "cell_type": "code",
      "source": [
        "class Connect4():\n",
        "  def __init__(self):\n",
        "    self.board = Board()\n",
        "\n",
        "  def CheckWin(self, filled_position, team_id):\n",
        "    # Hardcoding the seven possible directions\n",
        "    # (Due to nature of connect4, there's no reason to check upwards)\n",
        "    directions = [(1, 1), (-1, -1), (1, -1), (-1, 1), (1, 0), (-1, 0), (0, 1), (0, -1)]\n",
        "    direction_values = [-1] * len(directions)\n",
        "\n",
        "    # Checking in each direction\n",
        "    for i, direction in enumerate(directions):\n",
        "      # Setting up while loop to run\n",
        "      curr_id = team_id\n",
        "\n",
        "      # Looping through direction\n",
        "      while curr_id == team_id:\n",
        "\n",
        "        # Adding to direction\n",
        "        direction_values[i] += 1\n",
        "        # print(direction, direction_values[i], i)\n",
        "\n",
        "        # Ending conditions:\n",
        "        # 4 connected in this direction\n",
        "        if direction_values[i] >= 3:\n",
        "          return True\n",
        "        # 4 connected between this and opposite directions\n",
        "        # (Only valid after opposite direction is processed)\n",
        "        elif (i % 2 != 0) and (direction_values[i] + direction_values[i-1] >= 3):\n",
        "          return True\n",
        "\n",
        "        # Checking if next directions are within matrix\n",
        "        # (using direction_values as a counter for how far we've gone in that direction so far)\n",
        "        next_x = filled_position[0]+direction[0]*(direction_values[i]+1)\n",
        "        next_y = filled_position[1]+direction[1]*(direction_values[i]+1)\n",
        "        if (next_x < 0) or (next_x >= self.board.game_board.shape[0]) or (next_y < 0) or (next_y >= self.board.game_board.shape[1]):\n",
        "          break\n",
        "\n",
        "        # Otherwise getting next status\n",
        "        curr_id = self.board.game_board[next_x][next_y].GetStatus()\n",
        "\n",
        "    # No 4-way connection was found in the given directions\n",
        "    return False\n",
        "\n",
        "  # def NextPlay():\n"
      ],
      "metadata": {
        "id": "D0Lqe0nHxKzH"
      },
      "execution_count": 4,
      "outputs": []
    },
    {
      "cell_type": "code",
      "source": [
        "game = Connect4()\n",
        "\n",
        "# Setup board as [column][row] due to nature of the game\n",
        "# Feel free to change this around Austin, or just let me know and I can make the\n",
        "# necessary changes\n",
        "\n",
        "# Testing the win conditions\n",
        "game.board.game_board[2][2].UpdateStatus('o')\n",
        "game.board.game_board[3][2].UpdateStatus('o')\n",
        "# game.board.game_board[4][2].UpdateStatus('o')\n",
        "game.board.game_board[5][2].UpdateStatus('o')\n",
        "game.board.game_board[6][2].UpdateStatus('o')\n",
        "game.board.game_board[0][0].UpdateStatus('o')\n",
        "\n",
        "position = (6, 2)\n",
        "# game.board.game_board[position[0]][position[1]].UpdateStatus(' ')\n",
        "game.board.BoardInfo()\n",
        "\n",
        "print(game.CheckWin(position, game.board.game_board[position[0]][position[1]].GetStatus()))"
      ],
      "metadata": {
        "id": "YuMvjh9apmhM",
        "colab": {
          "base_uri": "https://localhost:8080/"
        },
        "outputId": "c749c842-a299-4606-a0c9-905ddbdff3fa"
      },
      "execution_count": 8,
      "outputs": [
        {
          "output_type": "stream",
          "name": "stdout",
          "text": [
            "Board Size:  (7, 6)\n",
            "-----------------------------\n",
            "|   |   |   |   |   |   |   | \n",
            "|   |   |   |   |   |   |   | \n",
            "|   |   |   |   |   |   |   | \n",
            "|   |   | o | o |   | o | o | \n",
            "|   |   |   |   |   |   |   | \n",
            "| o |   |   |   |   |   |   | \n",
            "-----------------------------\n",
            "(1, 1) 0 0\n",
            "(-1, -1) 0 1\n",
            "(1, -1) 0 2\n",
            "(-1, 1) 0 3\n",
            "(1, 0) 0 4\n",
            "(-1, 0) 0 5\n",
            "(-1, 0) 1 5\n",
            "(0, 1) 0 6\n",
            "(0, -1) 0 7\n",
            "False\n"
          ]
        }
      ]
    }
  ]
}