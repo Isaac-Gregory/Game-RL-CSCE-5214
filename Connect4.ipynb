{
  "nbformat": 4,
  "nbformat_minor": 0,
  "metadata": {
    "colab": {
      "provenance": [],
      "authorship_tag": "ABX9TyMoHcT5OZ5cBeM1IzSoqFQZ",
      "include_colab_link": true
    },
    "kernelspec": {
      "name": "python3",
      "display_name": "Python 3"
    },
    "language_info": {
      "name": "python"
    }
  },
  "cells": [
    {
      "cell_type": "markdown",
      "metadata": {
        "id": "view-in-github",
        "colab_type": "text"
      },
      "source": [
        "<a href=\"https://colab.research.google.com/github/Isaac-Gregory/Game-RL-CSCE-5214/blob/connect-four/Connect4.ipynb\" target=\"_parent\"><img src=\"https://colab.research.google.com/assets/colab-badge.svg\" alt=\"Open In Colab\"/></a>"
      ]
    },
    {
      "cell_type": "markdown",
      "source": [
        "Ideally I want the program to be able to be \"refunctioned\"\n",
        "\n",
        "- If I need to change to a different UI (terminal to python GUI), then it is easily done\n",
        "\n",
        "Possible Classes:\n",
        "\n",
        "- Board (Create, reset, determine win, insert coin / make a play; matrix of slots)\n",
        "\n",
        "- Slot (Update status)"
      ],
      "metadata": {
        "id": "-jdht8D-nBSI"
      }
    },
    {
      "cell_type": "code",
      "source": [
        "import numpy as np"
      ],
      "metadata": {
        "id": "Juopd7XWrSdB"
      },
      "execution_count": null,
      "outputs": []
    },
    {
      "cell_type": "code",
      "source": [
        "class Slot:\n",
        "  def __init__(self):\n",
        "    self.status = ' '\n",
        "\n",
        "  def UpdateStatus(self, status):\n",
        "    self.status = status\n",
        "\n",
        "  def GetStatus(self):\n",
        "    return str(self.status)\n",
        "\n",
        "  def __str__(self):\n",
        "    return str(self.status)"
      ],
      "metadata": {
        "id": "JODVbM7cs2z-"
      },
      "execution_count": null,
      "outputs": []
    },
    {
      "cell_type": "code",
      "execution_count": null,
      "metadata": {
        "id": "NBKurPAPmgje"
      },
      "outputs": [],
      "source": [
        "class Board:\n",
        "\n",
        "  # Creating board\n",
        "  def __init__(self):\n",
        "    self.ResetBoard()\n",
        "\n",
        "  # Reporting on board\n",
        "  def BoardInfo(self):\n",
        "    print(\"Board Size: \", self.game_board.shape)\n",
        "    print(self)\n",
        "\n",
        "  # Printing out the board\n",
        "  def __str__(self):\n",
        "    board_str = \"\"\n",
        "    shape = self.game_board.shape\n",
        "\n",
        "    board_str += \"-\" * (shape[1] * 2 + 2) + \"\\n\"\n",
        "    for row in range(shape[0]):\n",
        "      row_str = \"\"\n",
        "      for col in range(shape[1]):\n",
        "        row_str += self.game_board[row][col].GetStatus() + \" \"\n",
        "      board_str += row_str + \"\\n\"\n",
        "    board_str += \"-\" * (shape[1] * 2 + 2)\n",
        "    return board_str\n",
        "\n",
        "  # Resetting board to default\n",
        "  def ResetBoard(self):\n",
        "    self.game_board = np.array([[Slot()] * 7] * 6)\n",
        "\n",
        "  def AvailableSlots(self):\n",
        "    return np.where(self.game_board == ' ')"
      ]
    },
    {
      "cell_type": "code",
      "source": [
        "def Connect4():\n",
        "  def __int__():\n",
        "    board = Board()\n",
        "\n",
        "  def CheckWin(filled_position, team_id):\n",
        "    # Setting up while loop to run\n",
        "    curr_id = team_id\n",
        "\n",
        "    # Hardcoding the seven possible directions\n",
        "    # (Due to nature of connect4, there's no reason to check upwards)\n",
        "    directions = [(1, 1), (-1, -1), (1, -1), (-1, 1), (1, 0), (0, -1), (-1, 0)]\n",
        "    directions_values = [-1] * 7\n",
        "\n",
        "    # Checking in each direction\n",
        "    for i, direction in enumerate(directions):\n",
        "      while curr_id == team_id:\n",
        "\n",
        "        # Adding to direction\n",
        "        direction_values[i] += 1\n",
        "\n",
        "        # Ending conditions:\n",
        "        # 4 connected in this direction\n",
        "        if direction_values[i] >= 3:\n",
        "          return True\n",
        "        # 4 connected between this and opposite directions\n",
        "        # (Only valid after opposite direction is processed)\n",
        "        else if (i % 2 == 0) and (direction_values[i] + direction_values[i-1] >= 3):\n",
        "          return True\n",
        "\n",
        "        # Checking if next directions are within matrix\n",
        "        # (using direction_values as a counter for how far we've gone in that direction so far)\n",
        "        next_x = filled_position[0]+direction[0]*direction_values[i]\n",
        "        next_y = filled_position[1]+direction[1]*direction_values[i]\n",
        "        if (next_x < 0) or (next_x >= board.game_board.shape[0]) or (next_y < 0) or (next_y >= board.game_board.shape[1]):\n",
        "          break\n",
        "\n",
        "        # Otherwise getting next status\n",
        "        curr_id = board.game_board[next_x][next_y].GetStatus()\n",
        "\n",
        "      # No 4-way connection was found in the given directions\n",
        "      return False\n",
        "\n",
        "  def NextPlay():\n"
      ],
      "metadata": {
        "id": "D0Lqe0nHxKzH"
      },
      "execution_count": null,
      "outputs": []
    },
    {
      "cell_type": "code",
      "source": [
        "board = Board()"
      ],
      "metadata": {
        "id": "YuMvjh9apmhM"
      },
      "execution_count": null,
      "outputs": []
    },
    {
      "cell_type": "code",
      "source": [
        "board.BoardInfo()"
      ],
      "metadata": {
        "colab": {
          "base_uri": "https://localhost:8080/"
        },
        "id": "webpjR9tqBId",
        "outputId": "6cab182c-5b69-43c3-e670-b6383af1ce6f"
      },
      "execution_count": null,
      "outputs": [
        {
          "output_type": "stream",
          "name": "stdout",
          "text": [
            "Board Size:  (6, 7)\n",
            "----------------\n",
            "              \n",
            "              \n",
            "              \n",
            "              \n",
            "              \n",
            "              \n",
            "----------------\n"
          ]
        }
      ]
    }
  ]
}